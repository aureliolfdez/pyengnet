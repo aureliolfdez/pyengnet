{
 "cells": [
  {
   "cell_type": "code",
   "execution_count": 1,
   "metadata": {
    "pycharm": {
     "name": "#%%\n"
    }
   },
   "outputs": [],
   "source": [
    "import math\n",
    "import numpy as np\n",
    "import pandas as pd\n",
    "import seaborn as sns\n",
    "from tqdm import tqdm\n",
    "\n",
    "def generate_adjacency_matrix(N):\n",
    "    # n_genes = 10\n",
    "    a = np.random.randint(0, 3, (N, N))\n",
    "    a[np.tril_indices(a.shape[0], -1)] = a.T[np.tril_indices(a.shape[0], -1)]\n",
    "    b = np.fliplr(a)\n",
    "    b[np.tril_indices(b.shape[0], -1)] = b.T[np.tril_indices(a.shape[0], -1)]\n",
    "\n",
    "    b[b == 2] = -1\n",
    "    np.fill_diagonal(b, 0)  # Remove self loops\n",
    "    return b\n",
    "\n",
    "def get_vector_that_provides_corr(rho, x1):\n",
    "    n = x1.shape[0]  # length of vector, the number of samples for the same gene that we define in n_cols\n",
    "    # ho = 0.6  # desired correlation = cos(angle)\n",
    "    theta = math.acos(rho)  # corresponding angle\n",
    "    x2 = np.random.normal(2, 0.5, n)  # new random data\n",
    "    X = np.c_[x1, x2]  # matrix\n",
    "    Xctr = pd.DataFrame(X).apply(lambda x: x - x.mean()).to_numpy()  # centered columns (mean 0)\n",
    "    Id = np.diag(np.repeat(1, n))  # identity matrix\n",
    "    Q = np.linalg.qr(Xctr[:, 0].reshape(n, 1))[0].flatten()  # QR-decomposition, just matrix Q\n",
    "    P = np.outer(Q, Q)  # projection onto space defined by x1\n",
    "    x2o = np.dot((Id - P), Xctr[:, 1])  # x2ctr made orthogonal to x1ctr\n",
    "    Xc2 = np.c_[Xctr[:, 0], x2o]  # bind to matrix\n",
    "    Y = np.dot(Xc2, np.diag(1 / np.sqrt(np.sum(np.power(Xc2, 2), axis=0))))  # scale columns to length 1\n",
    "    x = Y[:, 1] + (1 / np.tan(theta)) * Y[:, 0]\n",
    "    x_norm = (x - x.mean()) / (x.std())\n",
    "    return x_norm\n",
    "\n",
    "\n",
    "def simulate_expression_from_adjacency(adjamat, n_samples=100, simdata_noise=0.1):\n",
    "    # noise = 0.5 # .1 strong correlation, 3 weak correlation\n",
    "    # random initialize data matrix\n",
    "    # n_samples = 40 # number of samples: 40 so we later split into 20 cases and 20 controls\n",
    "    n_rows = adjamat.shape[0]  # number of genes\n",
    "    mu, sigma = 1, 1  # mean and standard deviation\n",
    "    dataset = np.random.normal(mu, sigma, n_samples * n_rows).reshape(n_rows, n_samples)\n",
    "    already_modified = np.repeat(0, n_rows)  # N=n1+n2 genes\n",
    "    already_modified[0] = 1  # leave the first gene alone, base case\n",
    "\n",
    "    for i in range(adjamat.shape[1]):\n",
    "        for j in range(i + 1, adjamat.shape[1]):\n",
    "            # print(f'Considering row: {i}, column: {j} of A')\n",
    "            if (adjamat[i, j] == 1) & (already_modified[j] == 0):\n",
    "                # print(i,j)\n",
    "                # print(A[i,j])\n",
    "                dataset[j, :] = dataset[i, :] +  np.random.normal(0, simdata_noise, dataset.shape[1])\n",
    "                already_modified[j] = 1\n",
    "            elif (adjamat[i, j] == -1) & (already_modified[j] == 0):\n",
    "                # print(i,j)\n",
    "                # print(A[i,j])\n",
    "                dataset[j, :] = -dataset[i, :] + np.random.normal(0, simdata_noise, dataset.shape[1])\n",
    "                already_modified[j] = 1\n",
    "            elif (already_modified[j] == 1) & (already_modified[i] == 0):\n",
    "                #if j is  modified, we accordingly modify i. If i has been modified, we do nothing.\n",
    "                dataset[i,:] = dataset[j,:] + np.random.normal(0, simdata_noise, dataset.shape[1])\n",
    "                already_modified[i] = 1\n",
    "    ds = pd.DataFrame(dataset)\n",
    "    ds.columns = 'sample_' + ds.columns.astype(str)\n",
    "    ds.index = 'gene_' + ds.index.astype(str)\n",
    "    return ds\n",
    "\n",
    "def ground_truth_from_adjamat(adjamat):\n",
    "    genenames = ['gene_' + s for s in list(str(i) for i in range(n_genes))]\n",
    "\n",
    "    gene_A = []\n",
    "    gene_B = []\n",
    "    rels = []\n",
    "    for i in range(adjamat.shape[1]):\n",
    "        for j in range(i + 1, adjamat.shape[1]):\n",
    "            if adjamat[i][j] != 0:\n",
    "                #print(i, j, adjamat[i, j])\n",
    "                gene_A.append(i)\n",
    "                gene_B.append(j)\n",
    "                rels.append(np.where(adjamat[i, j] > 0, \"[+]\", \"[-]\"))\n",
    "\n",
    "    pairs = pd.DataFrame({'gene_A': gene_A, 'gene_B': gene_B, 'correlation': rels})\n",
    "    mygenedict = dict(zip(range(adjamat.shape[1]), genenames))\n",
    "    pairs.gene_A = pairs.gene_A.map(mygenedict)\n",
    "    pairs.gene_B = pairs.gene_B.map(mygenedict)\n",
    "    return pairs"
   ]
  },
  {
   "cell_type": "markdown",
   "metadata": {},
   "source": [
    "Write random matrix of dimensions n_rows (genes) x n_samples (columns)"
   ]
  },
  {
   "cell_type": "code",
   "execution_count": null,
   "outputs": [],
   "source": [
    "n_samples = 250\n",
    "n_rows = 5000\n",
    "mu, sigma = 1, 1  # mean and standard deviation\n",
    "\n",
    "print('Writing random distribution of genes')\n",
    "\n",
    "with open ('dataset_'+ str(n_rows) + '_' + str(n_samples) + '.csv', 'a+') as f:\n",
    "    sColumns = \"gene,\"\n",
    "    for i in range(n_samples):\n",
    "        sColumns = sColumns+\"sample_\"+str(i)\n",
    "        if(i < n_samples-1):\n",
    "            sColumns = sColumns + \",\"\n",
    "    sColumns = sColumns + '\\n'\n",
    "    f.write(sColumns)\n",
    "    for row in tqdm(range(n_rows)):\n",
    "        vector = np.random.normal(mu, sigma, n_samples * 1)\n",
    "        f.write(str(row)+\",\"+\",\".join(str(x) for x in vector)+'\\n')\n",
    "    f.close()"
   ],
   "metadata": {
    "collapsed": false,
    "pycharm": {
     "name": "#%%\n"
    }
   }
  }
 ],
 "metadata": {
  "kernelspec": {
   "display_name": "Python 3.10.4 64-bit",
   "language": "python",
   "name": "python3"
  },
  "language_info": {
   "codemirror_mode": {
    "name": "ipython",
    "version": 3
   },
   "file_extension": ".py",
   "mimetype": "text/x-python",
   "name": "python",
   "nbconvert_exporter": "python",
   "pygments_lexer": "ipython3",
   "version": "3.10.4"
  },
  "vscode": {
   "interpreter": {
    "hash": "916dbcbb3f70747c44a77c7bcd40155683ae19c65e1c03b4aa3499c5328201f1"
   }
  }
 },
 "nbformat": 4,
 "nbformat_minor": 1
}