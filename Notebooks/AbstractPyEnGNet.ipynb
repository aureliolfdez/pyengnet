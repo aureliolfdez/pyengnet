{
 "cells": [
  {
   "cell_type": "markdown",
   "id": "c420fc14-12b6-4fc1-9c4e-f1d6010c6e6a",
   "metadata": {
    "tags": [],
    "pycharm": {
     "name": "#%% md\n"
    }
   },
   "source": [
    "# **PyEnGNet 1.0**"
   ]
  },
  {
   "cell_type": "markdown",
   "id": "8f862d68-8037-4bfb-a4dd-bc53f55efcbb",
   "metadata": {
    "tags": [],
    "pycharm": {
     "name": "#%% md\n"
    }
   },
   "source": [
    "## **Introducción**"
   ]
  },
  {
   "cell_type": "markdown",
   "id": "c3831b56-00b1-4668-828e-aa96c66d7c68",
   "metadata": {
    "pycharm": {
     "name": "#%% md\n"
    }
   },
   "source": [
    "Las redes genéticas se han convertido en una herramienta poderosa en el análisis integral de la expresión génica. Debido a la creciente cantidad de datos genéticos disponibles, los métodos computacionales para la generación de redes deben hacer frente a la llamada maldición de la dimensionalidad en la búsqueda de la fiabilidad de los resultados obtenidos. En este contexto, las técnicas de ensemble learning han mejorado significativamente la precisión de los resultados al combinar diferentes medidas, algoritmos o métodos. Por otro lado, las técnicas de optimización topológicas también son importantes en la reducción del tamaño de las redes, no sólo mejorando su arquitectura de red sino también manteniendo significancia biológica."
   ]
  },
  {
   "cell_type": "markdown",
   "id": "aaf54aff-9ae2-43b5-8c03-9c7bb8a5daab",
   "metadata": {
    "pycharm": {
     "name": "#%% md\n"
    }
   },
   "source": [
    "### Herramienta y procedimiento\n",
    "\n",
    "EnGNet 1.0 es una aplicación informática que implementa una nueva metodología de explotación de datos de expresión genética denominada EnGNet. EnGNet es un nuevo algoritmo de dos pasos para la generación de redes de genes.\n",
    "\n",
    "En primer lugar, el programa emplea una técnica de ensemble (“comité de máquinas”) para la generación de redes de co-expresión genética.\n",
    "\n",
    "En segundo lugar, un algoritmo voraz optimiza tanto el tamaño como las características topológicas de la red. Este método no sólo es capaz de obtener redes fiables, sino que también mejora significativamente las características topológicas."
   ]
  },
  {
   "cell_type": "markdown",
   "id": "a7818c9d-5cf8-4e00-b215-7bd7cbdebdf9",
   "metadata": {
    "pycharm": {
     "name": "#%% md\n"
    }
   },
   "source": [
    "### El cambio\n",
    "\n",
    "La herramienta EnGNet fue desarrollada originalmente en el lenguaje de programación Java, ahora queremos dar el paso a migrar la tecnología al popular lenguaje de programación python y aprovechar las bondades de ser un lenguaje ampliamente utilizado en la investigación, explotando el potencial de uso de EnGNet.\n",
    "\n",
    "De esta manera nace: PyEnGNet"
   ]
  },
  {
   "cell_type": "markdown",
   "id": "8304b8b8-9adc-4e04-ac80-c5d489109875",
   "metadata": {
    "tags": [],
    "pycharm": {
     "name": "#%% md\n"
    }
   },
   "source": [
    "## **Funcionamiento del algoritmo**"
   ]
  },
  {
   "cell_type": "markdown",
   "id": "96ca042d-14ca-4fc0-8bc3-590828f76913",
   "metadata": {
    "pycharm": {
     "name": "#%% md\n"
    }
   },
   "source": [
    "PyEnGNet se ha desarrollado como una clase a la cual debemos asignarle únicamente:\n",
    "\n",
    "- La matriz de datos a estudiar\n",
    "- Los umbrales que deben superar los tests realizados por el algoritmo:\n",
    "    - Coeficiente de correlación de Pearson\n",
    "    - Coeficientes de rangos de Kendall\n",
    "    - Coeficiente de correlación de Spearman\n",
    "- Un umbral de peso de arista, que servirá para el último paso del algoritmo\n",
    "    \n",
    "El objetivo del desarrollo de PyEnGNet como un objeto es la encapsulación de todo el procedimiento para que el usuario solo deba acceder a las funciones de mayor relevancia"
   ]
  },
  {
   "cell_type": "markdown",
   "id": "37eff131-d2fb-4f07-843a-383ef77059a5",
   "metadata": {
    "tags": [],
    "pycharm": {
     "name": "#%% md\n"
    }
   },
   "source": [
    "### **Instanciamiento del objeto PyEnGNet**\n",
    "\n",
    "En primer lugar obtenemos a partir de un dataset de ejemplo un array de numpy que se pasará como parámetro al constructor de la clase."
   ]
  },
  {
   "cell_type": "code",
   "execution_count": 1,
   "id": "7f26ab80-bf41-42ae-8b6c-2f219bffd924",
   "metadata": {
    "pycharm": {
     "name": "#%%\n"
    }
   },
   "outputs": [
    {
     "name": "stdout",
     "output_type": "stream",
     "text": [
      "\n",
      "\t\t\t\t\t\t\tMATRIZ DE DATOS\n",
      "\n"
     ]
    },
    {
     "data": {
      "text/html": [
       "<div>\n",
       "<style scoped>\n",
       "    .dataframe tbody tr th:only-of-type {\n",
       "        vertical-align: middle;\n",
       "    }\n",
       "\n",
       "    .dataframe tbody tr th {\n",
       "        vertical-align: top;\n",
       "    }\n",
       "\n",
       "    .dataframe thead th {\n",
       "        text-align: right;\n",
       "    }\n",
       "</style>\n",
       "<table border=\"1\" class=\"dataframe\">\n",
       "  <thead>\n",
       "    <tr style=\"text-align: right;\">\n",
       "      <th></th>\n",
       "      <th>0</th>\n",
       "      <th>1</th>\n",
       "      <th>2</th>\n",
       "      <th>3</th>\n",
       "      <th>4</th>\n",
       "      <th>5</th>\n",
       "      <th>6</th>\n",
       "      <th>7</th>\n",
       "      <th>8</th>\n",
       "      <th>9</th>\n",
       "      <th>...</th>\n",
       "      <th>170</th>\n",
       "      <th>171</th>\n",
       "      <th>172</th>\n",
       "      <th>173</th>\n",
       "      <th>174</th>\n",
       "      <th>175</th>\n",
       "      <th>176</th>\n",
       "      <th>177</th>\n",
       "      <th>178</th>\n",
       "      <th>179</th>\n",
       "    </tr>\n",
       "  </thead>\n",
       "  <tbody>\n",
       "    <tr>\n",
       "      <th>0</th>\n",
       "      <td>0.393726</td>\n",
       "      <td>0.052912</td>\n",
       "      <td>0.079489</td>\n",
       "      <td>0.110079</td>\n",
       "      <td>0.076913</td>\n",
       "      <td>0.170031</td>\n",
       "      <td>0.076548</td>\n",
       "      <td>0.378425</td>\n",
       "      <td>0.069374</td>\n",
       "      <td>-0.024883</td>\n",
       "      <td>...</td>\n",
       "      <td>0.135870</td>\n",
       "      <td>0.555923</td>\n",
       "      <td>0.053774</td>\n",
       "      <td>0.063177</td>\n",
       "      <td>0.120053</td>\n",
       "      <td>0.511716</td>\n",
       "      <td>0.171683</td>\n",
       "      <td>0.181483</td>\n",
       "      <td>0.186592</td>\n",
       "      <td>0.166621</td>\n",
       "    </tr>\n",
       "    <tr>\n",
       "      <th>1</th>\n",
       "      <td>0.368257</td>\n",
       "      <td>0.192921</td>\n",
       "      <td>0.304331</td>\n",
       "      <td>0.347783</td>\n",
       "      <td>0.460730</td>\n",
       "      <td>0.247321</td>\n",
       "      <td>0.488002</td>\n",
       "      <td>0.395741</td>\n",
       "      <td>0.336612</td>\n",
       "      <td>0.395995</td>\n",
       "      <td>...</td>\n",
       "      <td>0.368265</td>\n",
       "      <td>0.436692</td>\n",
       "      <td>0.331386</td>\n",
       "      <td>0.396856</td>\n",
       "      <td>0.187229</td>\n",
       "      <td>0.297722</td>\n",
       "      <td>0.384049</td>\n",
       "      <td>0.422091</td>\n",
       "      <td>0.349731</td>\n",
       "      <td>0.260438</td>\n",
       "    </tr>\n",
       "    <tr>\n",
       "      <th>2</th>\n",
       "      <td>0.500661</td>\n",
       "      <td>0.480420</td>\n",
       "      <td>0.449263</td>\n",
       "      <td>0.462302</td>\n",
       "      <td>0.332204</td>\n",
       "      <td>0.347251</td>\n",
       "      <td>0.346586</td>\n",
       "      <td>0.356450</td>\n",
       "      <td>0.509264</td>\n",
       "      <td>0.486996</td>\n",
       "      <td>...</td>\n",
       "      <td>0.452821</td>\n",
       "      <td>0.340253</td>\n",
       "      <td>0.482209</td>\n",
       "      <td>0.524972</td>\n",
       "      <td>0.486942</td>\n",
       "      <td>0.474888</td>\n",
       "      <td>0.435856</td>\n",
       "      <td>0.357013</td>\n",
       "      <td>0.610022</td>\n",
       "      <td>0.443499</td>\n",
       "    </tr>\n",
       "    <tr>\n",
       "      <th>3</th>\n",
       "      <td>0.418802</td>\n",
       "      <td>0.333717</td>\n",
       "      <td>0.295416</td>\n",
       "      <td>0.313251</td>\n",
       "      <td>0.385264</td>\n",
       "      <td>0.350356</td>\n",
       "      <td>0.435079</td>\n",
       "      <td>0.418417</td>\n",
       "      <td>0.390439</td>\n",
       "      <td>0.357992</td>\n",
       "      <td>...</td>\n",
       "      <td>0.350447</td>\n",
       "      <td>0.329192</td>\n",
       "      <td>0.426531</td>\n",
       "      <td>0.389524</td>\n",
       "      <td>0.412562</td>\n",
       "      <td>0.483822</td>\n",
       "      <td>0.332376</td>\n",
       "      <td>0.317330</td>\n",
       "      <td>0.387120</td>\n",
       "      <td>0.373825</td>\n",
       "    </tr>\n",
       "    <tr>\n",
       "      <th>4</th>\n",
       "      <td>0.528209</td>\n",
       "      <td>0.466775</td>\n",
       "      <td>0.390307</td>\n",
       "      <td>0.547182</td>\n",
       "      <td>0.436885</td>\n",
       "      <td>0.585211</td>\n",
       "      <td>0.542756</td>\n",
       "      <td>0.565251</td>\n",
       "      <td>0.436395</td>\n",
       "      <td>0.460720</td>\n",
       "      <td>...</td>\n",
       "      <td>0.413356</td>\n",
       "      <td>0.582158</td>\n",
       "      <td>0.484834</td>\n",
       "      <td>0.523137</td>\n",
       "      <td>0.522180</td>\n",
       "      <td>0.286004</td>\n",
       "      <td>0.642618</td>\n",
       "      <td>0.526924</td>\n",
       "      <td>0.584369</td>\n",
       "      <td>0.533382</td>\n",
       "    </tr>\n",
       "    <tr>\n",
       "      <th>...</th>\n",
       "      <td>...</td>\n",
       "      <td>...</td>\n",
       "      <td>...</td>\n",
       "      <td>...</td>\n",
       "      <td>...</td>\n",
       "      <td>...</td>\n",
       "      <td>...</td>\n",
       "      <td>...</td>\n",
       "      <td>...</td>\n",
       "      <td>...</td>\n",
       "      <td>...</td>\n",
       "      <td>...</td>\n",
       "      <td>...</td>\n",
       "      <td>...</td>\n",
       "      <td>...</td>\n",
       "      <td>...</td>\n",
       "      <td>...</td>\n",
       "      <td>...</td>\n",
       "      <td>...</td>\n",
       "      <td>...</td>\n",
       "      <td>...</td>\n",
       "    </tr>\n",
       "    <tr>\n",
       "      <th>108</th>\n",
       "      <td>0.518182</td>\n",
       "      <td>0.514139</td>\n",
       "      <td>0.538879</td>\n",
       "      <td>0.463914</td>\n",
       "      <td>0.420827</td>\n",
       "      <td>0.638548</td>\n",
       "      <td>0.450177</td>\n",
       "      <td>0.619931</td>\n",
       "      <td>0.414552</td>\n",
       "      <td>0.530368</td>\n",
       "      <td>...</td>\n",
       "      <td>0.545532</td>\n",
       "      <td>0.538625</td>\n",
       "      <td>0.435721</td>\n",
       "      <td>0.473603</td>\n",
       "      <td>0.701581</td>\n",
       "      <td>0.552184</td>\n",
       "      <td>0.544960</td>\n",
       "      <td>0.544448</td>\n",
       "      <td>0.543322</td>\n",
       "      <td>0.565474</td>\n",
       "    </tr>\n",
       "    <tr>\n",
       "      <th>109</th>\n",
       "      <td>0.679404</td>\n",
       "      <td>0.619771</td>\n",
       "      <td>0.718633</td>\n",
       "      <td>0.454273</td>\n",
       "      <td>0.554298</td>\n",
       "      <td>0.823445</td>\n",
       "      <td>0.462051</td>\n",
       "      <td>0.778620</td>\n",
       "      <td>0.607679</td>\n",
       "      <td>0.716958</td>\n",
       "      <td>...</td>\n",
       "      <td>0.637161</td>\n",
       "      <td>0.611109</td>\n",
       "      <td>0.622095</td>\n",
       "      <td>0.464864</td>\n",
       "      <td>0.763002</td>\n",
       "      <td>0.690760</td>\n",
       "      <td>0.697808</td>\n",
       "      <td>0.589683</td>\n",
       "      <td>0.568464</td>\n",
       "      <td>0.537067</td>\n",
       "    </tr>\n",
       "    <tr>\n",
       "      <th>110</th>\n",
       "      <td>0.716606</td>\n",
       "      <td>0.675982</td>\n",
       "      <td>0.752573</td>\n",
       "      <td>0.653249</td>\n",
       "      <td>0.656137</td>\n",
       "      <td>0.803875</td>\n",
       "      <td>0.610495</td>\n",
       "      <td>0.758321</td>\n",
       "      <td>0.646875</td>\n",
       "      <td>0.592495</td>\n",
       "      <td>...</td>\n",
       "      <td>0.782004</td>\n",
       "      <td>0.693562</td>\n",
       "      <td>0.580309</td>\n",
       "      <td>0.642324</td>\n",
       "      <td>0.659733</td>\n",
       "      <td>0.711134</td>\n",
       "      <td>0.755975</td>\n",
       "      <td>0.877445</td>\n",
       "      <td>0.751245</td>\n",
       "      <td>0.662435</td>\n",
       "    </tr>\n",
       "    <tr>\n",
       "      <th>111</th>\n",
       "      <td>0.659796</td>\n",
       "      <td>0.594530</td>\n",
       "      <td>0.635661</td>\n",
       "      <td>0.498229</td>\n",
       "      <td>0.605627</td>\n",
       "      <td>0.757235</td>\n",
       "      <td>0.567830</td>\n",
       "      <td>0.641744</td>\n",
       "      <td>0.538927</td>\n",
       "      <td>0.681520</td>\n",
       "      <td>...</td>\n",
       "      <td>0.606450</td>\n",
       "      <td>0.596641</td>\n",
       "      <td>0.561738</td>\n",
       "      <td>0.496406</td>\n",
       "      <td>0.738552</td>\n",
       "      <td>0.610183</td>\n",
       "      <td>0.640114</td>\n",
       "      <td>0.689054</td>\n",
       "      <td>0.546962</td>\n",
       "      <td>0.618393</td>\n",
       "    </tr>\n",
       "    <tr>\n",
       "      <th>112</th>\n",
       "      <td>0.698325</td>\n",
       "      <td>0.698340</td>\n",
       "      <td>0.705864</td>\n",
       "      <td>0.565678</td>\n",
       "      <td>0.544833</td>\n",
       "      <td>0.826599</td>\n",
       "      <td>0.676943</td>\n",
       "      <td>0.731156</td>\n",
       "      <td>0.675671</td>\n",
       "      <td>0.691082</td>\n",
       "      <td>...</td>\n",
       "      <td>0.758175</td>\n",
       "      <td>0.723023</td>\n",
       "      <td>0.529402</td>\n",
       "      <td>0.643550</td>\n",
       "      <td>0.803131</td>\n",
       "      <td>0.599709</td>\n",
       "      <td>0.618113</td>\n",
       "      <td>0.676671</td>\n",
       "      <td>0.633684</td>\n",
       "      <td>0.788169</td>\n",
       "    </tr>\n",
       "  </tbody>\n",
       "</table>\n",
       "<p>113 rows × 180 columns</p>\n",
       "</div>"
      ],
      "text/plain": [
       "          0         1         2         3         4         5         6    \\\n",
       "0    0.393726  0.052912  0.079489  0.110079  0.076913  0.170031  0.076548   \n",
       "1    0.368257  0.192921  0.304331  0.347783  0.460730  0.247321  0.488002   \n",
       "2    0.500661  0.480420  0.449263  0.462302  0.332204  0.347251  0.346586   \n",
       "3    0.418802  0.333717  0.295416  0.313251  0.385264  0.350356  0.435079   \n",
       "4    0.528209  0.466775  0.390307  0.547182  0.436885  0.585211  0.542756   \n",
       "..        ...       ...       ...       ...       ...       ...       ...   \n",
       "108  0.518182  0.514139  0.538879  0.463914  0.420827  0.638548  0.450177   \n",
       "109  0.679404  0.619771  0.718633  0.454273  0.554298  0.823445  0.462051   \n",
       "110  0.716606  0.675982  0.752573  0.653249  0.656137  0.803875  0.610495   \n",
       "111  0.659796  0.594530  0.635661  0.498229  0.605627  0.757235  0.567830   \n",
       "112  0.698325  0.698340  0.705864  0.565678  0.544833  0.826599  0.676943   \n",
       "\n",
       "          7         8         9    ...       170       171       172  \\\n",
       "0    0.378425  0.069374 -0.024883  ...  0.135870  0.555923  0.053774   \n",
       "1    0.395741  0.336612  0.395995  ...  0.368265  0.436692  0.331386   \n",
       "2    0.356450  0.509264  0.486996  ...  0.452821  0.340253  0.482209   \n",
       "3    0.418417  0.390439  0.357992  ...  0.350447  0.329192  0.426531   \n",
       "4    0.565251  0.436395  0.460720  ...  0.413356  0.582158  0.484834   \n",
       "..        ...       ...       ...  ...       ...       ...       ...   \n",
       "108  0.619931  0.414552  0.530368  ...  0.545532  0.538625  0.435721   \n",
       "109  0.778620  0.607679  0.716958  ...  0.637161  0.611109  0.622095   \n",
       "110  0.758321  0.646875  0.592495  ...  0.782004  0.693562  0.580309   \n",
       "111  0.641744  0.538927  0.681520  ...  0.606450  0.596641  0.561738   \n",
       "112  0.731156  0.675671  0.691082  ...  0.758175  0.723023  0.529402   \n",
       "\n",
       "          173       174       175       176       177       178       179  \n",
       "0    0.063177  0.120053  0.511716  0.171683  0.181483  0.186592  0.166621  \n",
       "1    0.396856  0.187229  0.297722  0.384049  0.422091  0.349731  0.260438  \n",
       "2    0.524972  0.486942  0.474888  0.435856  0.357013  0.610022  0.443499  \n",
       "3    0.389524  0.412562  0.483822  0.332376  0.317330  0.387120  0.373825  \n",
       "4    0.523137  0.522180  0.286004  0.642618  0.526924  0.584369  0.533382  \n",
       "..        ...       ...       ...       ...       ...       ...       ...  \n",
       "108  0.473603  0.701581  0.552184  0.544960  0.544448  0.543322  0.565474  \n",
       "109  0.464864  0.763002  0.690760  0.697808  0.589683  0.568464  0.537067  \n",
       "110  0.642324  0.659733  0.711134  0.755975  0.877445  0.751245  0.662435  \n",
       "111  0.496406  0.738552  0.610183  0.640114  0.689054  0.546962  0.618393  \n",
       "112  0.643550  0.803131  0.599709  0.618113  0.676671  0.633684  0.788169  \n",
       "\n",
       "[113 rows x 180 columns]"
      ]
     },
     "execution_count": 1,
     "metadata": {},
     "output_type": "execute_result"
    }
   ],
   "source": [
    "import pandas as pd\n",
    "import numpy as np\n",
    "from pyEnGNet import *\n",
    "\n",
    "df = pd.read_csv(\"Data/113_exp_mat_cond_1.csv\")\n",
    "df = pd.DataFrame(df)\n",
    "df = df.drop(df.columns[[0,2]], axis=1)\n",
    "data = df.to_numpy()\n",
    "\n",
    "print(\"\\n\\t\\t\\t\\t\\t\\t\\tMATRIZ DE DATOS\\n\")\n",
    "pd.DataFrame(data)"
   ]
  },
  {
   "cell_type": "markdown",
   "id": "e790779f-706b-447b-ae5d-df215b72951d",
   "metadata": {
    "pycharm": {
     "name": "#%% md\n"
    }
   },
   "source": [
    "Queremos dar un paso más y elaborar un diccionario de los genes de los cuales realizamos el estudio."
   ]
  },
  {
   "cell_type": "code",
   "execution_count": 2,
   "id": "5ada1ae0-d313-4bd9-a167-8997a837d730",
   "metadata": {
    "pycharm": {
     "name": "#%%\n"
    }
   },
   "outputs": [],
   "source": [
    "with open(\"Data/113_exp_mat_cond_1.csv\") as f:\n",
    "    l = f.readline()\n",
    "    genes_dic = {}\n",
    "    for i,l in enumerate(f):\n",
    "        genes_dic[i] = l.split(\",\")[0]"
   ]
  },
  {
   "cell_type": "markdown",
   "id": "32cc61dd-1e78-47f8-9f6e-7047398ad053",
   "metadata": {
    "pycharm": {
     "name": "#%% md\n"
    }
   },
   "source": [
    "De esta manera podemos visualizar lo siguiente:"
   ]
  },
  {
   "cell_type": "code",
   "execution_count": 3,
   "id": "72fb165a-3879-4cdd-be7e-06795ce820a6",
   "metadata": {
    "pycharm": {
     "name": "#%%\n"
    }
   },
   "outputs": [
    {
     "name": "stdout",
     "output_type": "stream",
     "text": [
      "ADR1 \t-->\t 0\n",
      "FLO8 \t-->\t 1\n",
      "GIS1 \t-->\t 2\n",
      "IME4 \t-->\t 3\n",
      "KAR4 \t-->\t 4\n",
      "MSN1 \t-->\t 5\n",
      "RIM101 \t-->\t 6\n",
      "SDS3 \t-->\t 7\n",
      "STE12 \t-->\t 8\n",
      "SWI5 \t-->\t 9\n",
      "TEC1 \t-->\t 10\n",
      "\t...\n"
     ]
    }
   ],
   "source": [
    "for i in range(int(len(genes_dic)*0.1)):\n",
    "    print(genes_dic[i],\"\\t-->\\t\", i)\n",
    "print(\"\\t...\")    "
   ]
  },
  {
   "cell_type": "markdown",
   "id": "115ee31f-3373-4fc1-a709-e4b31906726d",
   "metadata": {
    "pycharm": {
     "name": "#%% md\n"
    }
   },
   "source": [
    "**Con todo esto, procedemos a instanciar un objeto PyEnGNet**"
   ]
  },
  {
   "cell_type": "code",
   "execution_count": 4,
   "id": "b41e2612-9f8b-4ef4-953b-e07db47ff2ca",
   "metadata": {
    "pycharm": {
     "name": "#%%\n"
    }
   },
   "outputs": [],
   "source": [
    "spearman = 0.7\n",
    "kendall = 0.7\n",
    "pearson = 0.7\n",
    "\n",
    "peso_para_readicion_red = 0.7\n",
    "\n",
    "peg = PyEnGNet(data, spearman_th=spearman, kendall_th=kendall, pearson_th=pearson, readded_th=peso_para_readicion_red)"
   ]
  },
  {
   "cell_type": "markdown",
   "id": "75cb2a2a-da6d-4e2e-9137-e0c1d42ecb41",
   "metadata": {
    "tags": [],
    "pycharm": {
     "name": "#%% md\n"
    }
   },
   "source": [
    "### **Paso 1: Validar las correlaciones entre genes con una estrategia de major voting y obtención del grafo principal**"
   ]
  },
  {
   "cell_type": "code",
   "execution_count": 17,
   "id": "80529a0d-8f8e-463d-b2f0-65ab69923c85",
   "metadata": {
    "pycharm": {
     "name": "#%%\n"
    }
   },
   "outputs": [
    {
     "name": "stdout",
     "output_type": "stream",
     "text": [
      "CPU times: user 7.33 ms, sys: 47.6 ms, total: 54.9 ms\n",
      "Wall time: 1.38 s\n"
     ]
    },
    {
     "data": {
      "text/html": [
       "<div>\n",
       "<style scoped>\n",
       "    .dataframe tbody tr th:only-of-type {\n",
       "        vertical-align: middle;\n",
       "    }\n",
       "\n",
       "    .dataframe tbody tr th {\n",
       "        vertical-align: top;\n",
       "    }\n",
       "\n",
       "    .dataframe thead th {\n",
       "        text-align: right;\n",
       "    }\n",
       "</style>\n",
       "<table border=\"1\" class=\"dataframe\">\n",
       "  <thead>\n",
       "    <tr style=\"text-align: right;\">\n",
       "      <th></th>\n",
       "      <th>GenA</th>\n",
       "      <th>GenB</th>\n",
       "      <th>Weight</th>\n",
       "    </tr>\n",
       "  </thead>\n",
       "  <tbody>\n",
       "    <tr>\n",
       "      <th>0</th>\n",
       "      <td>ENT1</td>\n",
       "      <td>KTR1</td>\n",
       "      <td>{'weight': 0.7255571737129762}</td>\n",
       "    </tr>\n",
       "    <tr>\n",
       "      <th>1</th>\n",
       "      <td>STE2</td>\n",
       "      <td>AFR1</td>\n",
       "      <td>{'weight': 0.7155115996731671}</td>\n",
       "    </tr>\n",
       "    <tr>\n",
       "      <th>2</th>\n",
       "      <td>STE2</td>\n",
       "      <td>CHS1</td>\n",
       "      <td>{'weight': 0.7462321210562424}</td>\n",
       "    </tr>\n",
       "    <tr>\n",
       "      <th>3</th>\n",
       "      <td>PHO81</td>\n",
       "      <td>FUS3</td>\n",
       "      <td>{'weight': 0.7041228657045737}</td>\n",
       "    </tr>\n",
       "    <tr>\n",
       "      <th>4</th>\n",
       "      <td>PHO81</td>\n",
       "      <td>KAR5</td>\n",
       "      <td>{'weight': 0.7199583800134501}</td>\n",
       "    </tr>\n",
       "  </tbody>\n",
       "</table>\n",
       "</div>"
      ],
      "text/plain": [
       "    GenA  GenB                          Weight\n",
       "0   ENT1  KTR1  {'weight': 0.7255571737129762}\n",
       "1   STE2  AFR1  {'weight': 0.7155115996731671}\n",
       "2   STE2  CHS1  {'weight': 0.7462321210562424}\n",
       "3  PHO81  FUS3  {'weight': 0.7041228657045737}\n",
       "4  PHO81  KAR5  {'weight': 0.7199583800134501}"
      ]
     },
     "execution_count": 17,
     "metadata": {},
     "output_type": "execute_result"
    }
   ],
   "source": [
    "%%time\n",
    "principal_edges = peg.mainmethod()\n",
    "for e in principal_edges:\n",
    "    e[0] = genes_dic[e[0]]\n",
    "    e[1] = genes_dic[e[1]]\n",
    "    \n",
    "newhead = [\"GenA\", \"GenB\", \"Weight\"]\n",
    "pd.DataFrame(principal_edges, columns=newhead).head()   # Mostrando sólo las 5 primeras aristas del grafo"
   ]
  },
  {
   "cell_type": "markdown",
   "id": "1236c966-8a67-4fae-a75e-9000dc1cf54d",
   "metadata": {
    "tags": [],
    "pycharm": {
     "name": "#%% md\n"
    }
   },
   "source": [
    "**Visualización del grafo**"
   ]
  },
  {
   "cell_type": "code",
   "execution_count": 18,
   "id": "7b16f136-3387-4f23-ab51-99c63ecb022b",
   "metadata": {
    "pycharm": {
     "name": "#%%\n"
    }
   },
   "outputs": [
    {
     "data": {
      "image/png": "[encoded data removed]",
      "text/plain": [
       "<Figure size 720x360 with 1 Axes>"
      ]
     },
     "metadata": {},
     "output_type": "display_data"
    }
   ],
   "source": [
    "import networkx as nx\n",
    "G = nx.Graph()\n",
    "G.add_edges_from(principal_edges)\n",
    "options = {\n",
    "    'node_color': 'cyan',\n",
    "    'font_color': 'black',\n",
    "    'with_labels': True\n",
    "}\n",
    "nx.draw_kamada_kawai(G,**options)"
   ]
  },
  {
   "cell_type": "markdown",
   "id": "e4d26f31-b921-4d5c-ac8e-000b8f1b21fa",
   "metadata": {
    "tags": [],
    "pycharm": {
     "name": "#%% md\n"
    }
   },
   "source": [
    "### **Paso 2: Obtención del bosque de recubrimiento máximo en la red**"
   ]
  },
  {
   "cell_type": "code",
   "execution_count": 19,
   "id": "590d03d3-a359-4f50-a6f9-b5b0fe29e8e6",
   "metadata": {
    "pycharm": {
     "name": "#%%\n"
    }
   },
   "outputs": [
    {
     "data": {
      "image/png": "[encoded data removed]",
      "text/plain": [
       "<Figure size 720x360 with 1 Axes>"
      ]
     },
     "metadata": {},
     "output_type": "display_data"
    }
   ],
   "source": [
    "G2 = nx.maximum_spanning_tree(G, weight='weight', algorithm=\"kruskal\")\n",
    "nx.draw_kamada_kawai(G2, **options)"
   ]
  },
  {
   "cell_type": "markdown",
   "id": "74213b7c-8b33-4a27-9550-4f3d87a37a66",
   "metadata": {
    "tags": [],
    "pycharm": {
     "name": "#%% md\n"
    }
   },
   "source": [
    "### **Paso 3: Volver a añadir edges con una relevancia significativa**"
   ]
  },
  {
   "cell_type": "code",
   "execution_count": 20,
   "id": "21bafd23-7a15-49a9-9e99-5554162d2a5b",
   "metadata": {
    "pycharm": {
     "name": "#%%\n"
    }
   },
   "outputs": [
    {
     "data": {
      "image/png": "[encoded data removed]",
      "text/plain": [
       "<Figure size 720x360 with 1 Axes>"
      ]
     },
     "metadata": {},
     "output_type": "display_data"
    }
   ],
   "source": [
    "G3 = peg.readd_edges(G, G2)\n",
    "nx.draw_kamada_kawai(G3, **options)"
   ]
  },
  {
   "cell_type": "markdown",
   "id": "a2e3a07e-ba57-4a0f-80f7-5fd1f7d377d1",
   "metadata": {
    "pycharm": {
     "name": "#%% md\n"
    }
   },
   "source": [
    "El peso o umbral que deben superar las aristas debe ser indicada por el usuario como se muestra en la instanciación del objeto"
   ]
  },
  {
   "cell_type": "markdown",
   "id": "8765cfd3-b4f8-4674-a7f0-5dcba6f6ec51",
   "metadata": {
    "pycharm": {
     "name": "#%% md\n"
    }
   },
   "source": [
    "## **Performance de PyEnGNet**"
   ]
  },
  {
   "cell_type": "code",
   "execution_count": 21,
   "id": "a88da22a-40c6-46f2-a56e-33678ed86222",
   "metadata": {
    "pycharm": {
     "name": "#%%\n"
    }
   },
   "outputs": [],
   "source": [
    "import matplotlib.pyplot as plt\n",
    "plt.rcParams['figure.figsize'] = [10, 5]\n",
    "matdim_time = [['100x100','500x500','1000x1000','2000x2000','5000x5000'],[0.8447303771972656, 22.814921855926514,132.30795669555664, 701.5740027427673,8086.798975467682]]\n",
    "ncores_time = [['1','2','4','6','8'], [91.70972108840942,69.76191711425781,43.455793142318726,32.857638359069824,26.90361261367798]]"
   ]
  },
  {
   "cell_type": "markdown",
   "id": "6a1c0e21-1822-497a-9310-b2dad3fd6ff2",
   "metadata": {
    "tags": [],
    "pycharm": {
     "name": "#%% md\n"
    }
   },
   "source": [
    "### **Tiempo de ejecución de PyEnGNet en función del número de núcleos utilizados en el cómputo**\n",
    "\n",
    "Se tomó como entrada un conjunto de datos de 500 filas x 500 columnas."
   ]
  },
  {
   "cell_type": "code",
   "execution_count": 22,
   "id": "126998e5-6953-4664-901c-b353cd8d0875",
   "metadata": {
    "pycharm": {
     "name": "#%%\n"
    }
   },
   "outputs": [
    {
     "data": {
      "text/html": [
       "<div>\n",
       "<style scoped>\n",
       "    .dataframe tbody tr th:only-of-type {\n",
       "        vertical-align: middle;\n",
       "    }\n",
       "\n",
       "    .dataframe tbody tr th {\n",
       "        vertical-align: top;\n",
       "    }\n",
       "\n",
       "    .dataframe thead th {\n",
       "        text-align: right;\n",
       "    }\n",
       "</style>\n",
       "<table border=\"1\" class=\"dataframe\">\n",
       "  <thead>\n",
       "    <tr style=\"text-align: right;\">\n",
       "      <th></th>\n",
       "      <th>numcores</th>\n",
       "      <th>tiempo en segundos</th>\n",
       "    </tr>\n",
       "  </thead>\n",
       "  <tbody>\n",
       "    <tr>\n",
       "      <th>0</th>\n",
       "      <td>1</td>\n",
       "      <td>91.709721</td>\n",
       "    </tr>\n",
       "    <tr>\n",
       "      <th>1</th>\n",
       "      <td>2</td>\n",
       "      <td>69.761917</td>\n",
       "    </tr>\n",
       "    <tr>\n",
       "      <th>2</th>\n",
       "      <td>4</td>\n",
       "      <td>43.455793</td>\n",
       "    </tr>\n",
       "    <tr>\n",
       "      <th>3</th>\n",
       "      <td>6</td>\n",
       "      <td>32.857638</td>\n",
       "    </tr>\n",
       "    <tr>\n",
       "      <th>4</th>\n",
       "      <td>8</td>\n",
       "      <td>26.903613</td>\n",
       "    </tr>\n",
       "  </tbody>\n",
       "</table>\n",
       "</div>"
      ],
      "text/plain": [
       "   numcores  tiempo en segundos\n",
       "0         1           91.709721\n",
       "1         2           69.761917\n",
       "2         4           43.455793\n",
       "3         6           32.857638\n",
       "4         8           26.903613"
      ]
     },
     "execution_count": 22,
     "metadata": {},
     "output_type": "execute_result"
    }
   ],
   "source": [
    "df = pd.read_csv(\"t_num_cores_500x500.csv\")\n",
    "pd.DataFrame(df)"
   ]
  },
  {
   "cell_type": "code",
   "execution_count": 23,
   "id": "ebcee68c-7e2c-48cc-a34f-eccbd847e0e7",
   "metadata": {
    "pycharm": {
     "name": "#%%\n"
    }
   },
   "outputs": [
    {
     "data": {
      "image/png": "[encoded data removed]",
      "text/plain": [
       "<Figure size 720x360 with 1 Axes>"
      ]
     },
     "metadata": {
      "needs_background": "light"
     },
     "output_type": "display_data"
    }
   ],
   "source": [
    "plt.bar(ncores_time[0],ncores_time[1])\n",
    "plt.plot(ncores_time[0],ncores_time[1],marker='o', color='red')\n",
    "plt.title(\"Tiempo para procesar una matriz de datos en función del número de núcleos\")\n",
    "plt.xlabel(\"Número de cores empleados\")\n",
    "plt.ylabel(\"Tiempo en segundos\")\n",
    "plt.show()"
   ]
  },
  {
   "cell_type": "markdown",
   "id": "5f01468f-6e55-481d-9c98-8316444c2e23",
   "metadata": {
    "pycharm": {
     "name": "#%% md\n"
    }
   },
   "source": [
    "### **Tiempo de ejecución de PyEnGNet en función del tamaño de una matriz de datos cuadrada**\n",
    "\n",
    "Se usaron 8 núcleos para calcular"
   ]
  },
  {
   "cell_type": "code",
   "execution_count": 24,
   "id": "10529420-96e6-47b1-8be2-a7829b979055",
   "metadata": {
    "pycharm": {
     "name": "#%%\n"
    }
   },
   "outputs": [
    {
     "data": {
      "text/html": [
       "<div>\n",
       "<style scoped>\n",
       "    .dataframe tbody tr th:only-of-type {\n",
       "        vertical-align: middle;\n",
       "    }\n",
       "\n",
       "    .dataframe tbody tr th {\n",
       "        vertical-align: top;\n",
       "    }\n",
       "\n",
       "    .dataframe thead th {\n",
       "        text-align: right;\n",
       "    }\n",
       "</style>\n",
       "<table border=\"1\" class=\"dataframe\">\n",
       "  <thead>\n",
       "    <tr style=\"text-align: right;\">\n",
       "      <th></th>\n",
       "      <th>dim_matriz</th>\n",
       "      <th>tiempo en segundos</th>\n",
       "    </tr>\n",
       "  </thead>\n",
       "  <tbody>\n",
       "    <tr>\n",
       "      <th>0</th>\n",
       "      <td>100</td>\n",
       "      <td>0.844730</td>\n",
       "    </tr>\n",
       "    <tr>\n",
       "      <th>1</th>\n",
       "      <td>500</td>\n",
       "      <td>22.814922</td>\n",
       "    </tr>\n",
       "    <tr>\n",
       "      <th>2</th>\n",
       "      <td>1000</td>\n",
       "      <td>132.307957</td>\n",
       "    </tr>\n",
       "    <tr>\n",
       "      <th>3</th>\n",
       "      <td>2000</td>\n",
       "      <td>701.574003</td>\n",
       "    </tr>\n",
       "    <tr>\n",
       "      <th>4</th>\n",
       "      <td>5000</td>\n",
       "      <td>8086.798975</td>\n",
       "    </tr>\n",
       "  </tbody>\n",
       "</table>\n",
       "</div>"
      ],
      "text/plain": [
       "   dim_matriz  tiempo en segundos\n",
       "0         100            0.844730\n",
       "1         500           22.814922\n",
       "2        1000          132.307957\n",
       "3        2000          701.574003\n",
       "4        5000         8086.798975"
      ]
     },
     "execution_count": 24,
     "metadata": {},
     "output_type": "execute_result"
    }
   ],
   "source": [
    "df = pd.read_csv(\"t_num_fils.csv\")\n",
    "pd.DataFrame(df)"
   ]
  },
  {
   "cell_type": "code",
   "execution_count": 25,
   "id": "ae9c0ea3-5de0-49aa-9764-08920a8e05de",
   "metadata": {
    "pycharm": {
     "name": "#%%\n"
    }
   },
   "outputs": [
    {
     "data": {
      "image/png": "[encoded data removed]",
      "text/plain": [
       "<Figure size 720x360 with 1 Axes>"
      ]
     },
     "metadata": {
      "needs_background": "light"
     },
     "output_type": "display_data"
    }
   ],
   "source": [
    "plt.bar(matdim_time[0],matdim_time[1])\n",
    "plt.plot(matdim_time[0],matdim_time[1],marker='o', color='red')\n",
    "plt.title(\"Tiempo para procesar una matriz en función de su dimensión\")\n",
    "plt.xlabel(\"Dimensión de la matriz\")\n",
    "plt.ylabel(\"Tiempo en segundos\")\n",
    "plt.show()"
   ]
  }
 ],
 "metadata": {
  "kernelspec": {
   "display_name": "Python 3 (ipykernel)",
   "language": "python",
   "name": "python3"
  },
  "language_info": {
   "codemirror_mode": {
    "name": "ipython",
    "version": 3
   },
   "file_extension": ".py",
   "mimetype": "text/x-python",
   "name": "python",
   "nbconvert_exporter": "python",
   "pygments_lexer": "ipython3",
   "version": "3.8.10"
  }
 },
 "nbformat": 4,
 "nbformat_minor": 5
}